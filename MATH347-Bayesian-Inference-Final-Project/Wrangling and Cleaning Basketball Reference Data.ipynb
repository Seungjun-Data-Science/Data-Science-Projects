{
 "cells": [
  {
   "cell_type": "markdown",
   "metadata": {},
   "source": [
    "## 2017-2018 and 2018-2019 Seasons NBA Player Total Stats + Advanced Stats"
   ]
  },
  {
   "cell_type": "code",
   "execution_count": 1,
   "metadata": {},
   "outputs": [],
   "source": [
    "# Import packages / libraries\n",
    "import pandas as pd\n",
    "import numpy as np"
   ]
  },
  {
   "cell_type": "code",
   "execution_count": 2,
   "metadata": {
    "scrolled": true
   },
   "outputs": [],
   "source": [
    "# Season 17-18 Player Data\n",
    "player_17_18_stat = pd.read_csv(\"NBA_17_18_season_player_stat.csv\", encoding = 'unicode_escape')\n",
    "player_17_18_adv_stat = pd.read_csv(\"NBA_17_18_season_player_adv_stat.csv\", encoding = 'unicode_escape')"
   ]
  },
  {
   "cell_type": "code",
   "execution_count": 3,
   "metadata": {},
   "outputs": [],
   "source": [
    "# Merge basic stats and advanced stats sideways\n",
    "player_17_18_df = pd.concat([player_17_18_stat,player_17_18_adv_stat], axis=1).dropna(axis=1, how=\"all\")"
   ]
  },
  {
   "cell_type": "code",
   "execution_count": 4,
   "metadata": {},
   "outputs": [],
   "source": [
    "# Drop duplicate columns (e.g. Rk) (Due to trade, team change within the same season)\n",
    "player_17_18_df = player_17_18_df.loc[:,~player_17_18_df.columns.duplicated()]"
   ]
  },
  {
   "cell_type": "code",
   "execution_count": 5,
   "metadata": {},
   "outputs": [],
   "source": [
    "# Season 18-19 Player Data\n",
    "player_18_19_stat = pd.read_csv(\"NBA_18_19_season_player_stat.csv\")\n",
    "player_18_19_adv_stat = pd.read_csv(\"NBA_18_19_season_player_adv_stat.csv\")"
   ]
  },
  {
   "cell_type": "code",
   "execution_count": 6,
   "metadata": {},
   "outputs": [],
   "source": [
    "# Merge basic stats and advanced stats sideways\n",
    "player_18_19_df = pd.concat([player_18_19_stat,player_18_19_adv_stat], axis=1).dropna(axis=1, how=\"all\")"
   ]
  },
  {
   "cell_type": "code",
   "execution_count": 7,
   "metadata": {
    "scrolled": true
   },
   "outputs": [],
   "source": [
    "# Drop duplicate columns (e.g. Rk) (Due to trade, team change within the same season)\n",
    "player_18_19_df = player_18_19_df.loc[:,~player_18_19_df.columns.duplicated()]"
   ]
  },
  {
   "cell_type": "code",
   "execution_count": 8,
   "metadata": {},
   "outputs": [],
   "source": [
    "# 17-18 Season all star players\n",
    "all_star = ['LeBron James','Kevin Durant', 'Russell Westbrook', 'Kyrie Irving', 'Anthony Davis', 'Paul George', 'Andre Drummond', \n",
    "            'Bradley Beal', 'Victor Oladipo', 'Kemba Walker', 'Goran Dragić', 'LaMarcus Aldrige', 'James Harden', 'DeMar DeRozan', \n",
    "            'Stephen Curry','Giannis Antetokounmpo', 'Joel Emblid', 'Kyle Lowry', 'Klay Thompson', 'Damian Lillard', \n",
    "            'Draymond Green', 'Karl-Anthony Towns','Al Horford']"
   ]
  },
  {
   "cell_type": "code",
   "execution_count": 9,
   "metadata": {},
   "outputs": [],
   "source": [
    "# Making a new indicator column that tells you if the player was all star player or not in 17-18 season (1: yes, 0: N0)\n",
    "player_17_18_df['all_star_bool'] = np.where(player_17_18_df.Player.isin(all_star), 1, 0)"
   ]
  },
  {
   "cell_type": "code",
   "execution_count": 10,
   "metadata": {
    "scrolled": true
   },
   "outputs": [],
   "source": [
    "player_17_18_df_cleaned = \\\n",
    "pd.merge(player_17_18_df[['Rk','Player']], player_17_18_df.groupby(['Rk']).mean(), how='right', on='Rk')"
   ]
  },
  {
   "cell_type": "code",
   "execution_count": 11,
   "metadata": {},
   "outputs": [],
   "source": [
    "player_18_19_df_cleaned = \\\n",
    "pd.merge(player_18_19_df[['Rk','Player']], player_18_19_df.groupby(['Rk']).mean(), how='right', on='Rk')"
   ]
  },
  {
   "cell_type": "code",
   "execution_count": 12,
   "metadata": {},
   "outputs": [],
   "source": [
    "# player_17_18_df_cleaned.to_csv(\"player_17_18_stats.csv\")"
   ]
  },
  {
   "cell_type": "code",
   "execution_count": 13,
   "metadata": {},
   "outputs": [],
   "source": [
    "# player_18_19_df_cleaned.to_csv(\"player_18_19_stats.csv\")"
   ]
  },
  {
   "cell_type": "code",
   "execution_count": 14,
   "metadata": {
    "scrolled": true
   },
   "outputs": [
    {
     "data": {
      "text/html": [
       "<div>\n",
       "<style scoped>\n",
       "    .dataframe tbody tr th:only-of-type {\n",
       "        vertical-align: middle;\n",
       "    }\n",
       "\n",
       "    .dataframe tbody tr th {\n",
       "        vertical-align: top;\n",
       "    }\n",
       "\n",
       "    .dataframe thead th {\n",
       "        text-align: right;\n",
       "    }\n",
       "</style>\n",
       "<table border=\"1\" class=\"dataframe\">\n",
       "  <thead>\n",
       "    <tr style=\"text-align: right;\">\n",
       "      <th></th>\n",
       "      <th>Rk</th>\n",
       "      <th>Player</th>\n",
       "      <th>Age</th>\n",
       "      <th>G</th>\n",
       "      <th>GS</th>\n",
       "      <th>MP</th>\n",
       "      <th>FG</th>\n",
       "      <th>FGA</th>\n",
       "      <th>FG%</th>\n",
       "      <th>3P</th>\n",
       "      <th>...</th>\n",
       "      <th>TOV%</th>\n",
       "      <th>USG%</th>\n",
       "      <th>OWS</th>\n",
       "      <th>DWS</th>\n",
       "      <th>WS</th>\n",
       "      <th>WS/48</th>\n",
       "      <th>OBPM</th>\n",
       "      <th>DBPM</th>\n",
       "      <th>BPM</th>\n",
       "      <th>VORP</th>\n",
       "    </tr>\n",
       "  </thead>\n",
       "  <tbody>\n",
       "    <tr>\n",
       "      <th>0</th>\n",
       "      <td>1</td>\n",
       "      <td>Alex Abrines</td>\n",
       "      <td>25.0</td>\n",
       "      <td>31.0</td>\n",
       "      <td>2.0</td>\n",
       "      <td>588.0</td>\n",
       "      <td>56.0</td>\n",
       "      <td>157.0</td>\n",
       "      <td>0.357</td>\n",
       "      <td>41.0</td>\n",
       "      <td>...</td>\n",
       "      <td>7.9</td>\n",
       "      <td>12.2</td>\n",
       "      <td>0.1</td>\n",
       "      <td>0.6</td>\n",
       "      <td>0.6</td>\n",
       "      <td>0.053</td>\n",
       "      <td>-2.4</td>\n",
       "      <td>-0.9</td>\n",
       "      <td>-3.4</td>\n",
       "      <td>-0.2</td>\n",
       "    </tr>\n",
       "    <tr>\n",
       "      <th>1</th>\n",
       "      <td>2</td>\n",
       "      <td>Quincy Acy</td>\n",
       "      <td>28.0</td>\n",
       "      <td>10.0</td>\n",
       "      <td>0.0</td>\n",
       "      <td>123.0</td>\n",
       "      <td>4.0</td>\n",
       "      <td>18.0</td>\n",
       "      <td>0.222</td>\n",
       "      <td>2.0</td>\n",
       "      <td>...</td>\n",
       "      <td>15.2</td>\n",
       "      <td>9.2</td>\n",
       "      <td>-0.1</td>\n",
       "      <td>0.0</td>\n",
       "      <td>-0.1</td>\n",
       "      <td>-0.022</td>\n",
       "      <td>-5.7</td>\n",
       "      <td>-0.3</td>\n",
       "      <td>-5.9</td>\n",
       "      <td>-0.1</td>\n",
       "    </tr>\n",
       "    <tr>\n",
       "      <th>2</th>\n",
       "      <td>3</td>\n",
       "      <td>Jaylen Adams</td>\n",
       "      <td>22.0</td>\n",
       "      <td>34.0</td>\n",
       "      <td>1.0</td>\n",
       "      <td>428.0</td>\n",
       "      <td>38.0</td>\n",
       "      <td>110.0</td>\n",
       "      <td>0.345</td>\n",
       "      <td>25.0</td>\n",
       "      <td>...</td>\n",
       "      <td>19.7</td>\n",
       "      <td>13.5</td>\n",
       "      <td>-0.1</td>\n",
       "      <td>0.2</td>\n",
       "      <td>0.1</td>\n",
       "      <td>0.011</td>\n",
       "      <td>-3.1</td>\n",
       "      <td>-1.3</td>\n",
       "      <td>-4.4</td>\n",
       "      <td>-0.3</td>\n",
       "    </tr>\n",
       "    <tr>\n",
       "      <th>3</th>\n",
       "      <td>4</td>\n",
       "      <td>Steven Adams</td>\n",
       "      <td>25.0</td>\n",
       "      <td>80.0</td>\n",
       "      <td>80.0</td>\n",
       "      <td>2669.0</td>\n",
       "      <td>481.0</td>\n",
       "      <td>809.0</td>\n",
       "      <td>0.595</td>\n",
       "      <td>0.0</td>\n",
       "      <td>...</td>\n",
       "      <td>12.6</td>\n",
       "      <td>16.4</td>\n",
       "      <td>5.1</td>\n",
       "      <td>4.0</td>\n",
       "      <td>9.1</td>\n",
       "      <td>0.163</td>\n",
       "      <td>0.6</td>\n",
       "      <td>2.1</td>\n",
       "      <td>2.7</td>\n",
       "      <td>3.2</td>\n",
       "    </tr>\n",
       "    <tr>\n",
       "      <th>4</th>\n",
       "      <td>5</td>\n",
       "      <td>Bam Adebayo</td>\n",
       "      <td>21.0</td>\n",
       "      <td>82.0</td>\n",
       "      <td>28.0</td>\n",
       "      <td>1913.0</td>\n",
       "      <td>280.0</td>\n",
       "      <td>486.0</td>\n",
       "      <td>0.576</td>\n",
       "      <td>3.0</td>\n",
       "      <td>...</td>\n",
       "      <td>17.1</td>\n",
       "      <td>15.8</td>\n",
       "      <td>3.4</td>\n",
       "      <td>3.4</td>\n",
       "      <td>6.8</td>\n",
       "      <td>0.171</td>\n",
       "      <td>-0.6</td>\n",
       "      <td>3.6</td>\n",
       "      <td>3.0</td>\n",
       "      <td>2.4</td>\n",
       "    </tr>\n",
       "  </tbody>\n",
       "</table>\n",
       "<p>5 rows × 48 columns</p>\n",
       "</div>"
      ],
      "text/plain": [
       "   Rk        Player   Age     G    GS      MP     FG    FGA    FG%    3P  \\\n",
       "0   1  Alex Abrines  25.0  31.0   2.0   588.0   56.0  157.0  0.357  41.0   \n",
       "1   2    Quincy Acy  28.0  10.0   0.0   123.0    4.0   18.0  0.222   2.0   \n",
       "2   3  Jaylen Adams  22.0  34.0   1.0   428.0   38.0  110.0  0.345  25.0   \n",
       "3   4  Steven Adams  25.0  80.0  80.0  2669.0  481.0  809.0  0.595   0.0   \n",
       "4   5   Bam Adebayo  21.0  82.0  28.0  1913.0  280.0  486.0  0.576   3.0   \n",
       "\n",
       "   ...   TOV%  USG%  OWS  DWS   WS  WS/48  OBPM  DBPM  BPM  VORP  \n",
       "0  ...    7.9  12.2  0.1  0.6  0.6  0.053  -2.4  -0.9 -3.4  -0.2  \n",
       "1  ...   15.2   9.2 -0.1  0.0 -0.1 -0.022  -5.7  -0.3 -5.9  -0.1  \n",
       "2  ...   19.7  13.5 -0.1  0.2  0.1  0.011  -3.1  -1.3 -4.4  -0.3  \n",
       "3  ...   12.6  16.4  5.1  4.0  9.1  0.163   0.6   2.1  2.7   3.2  \n",
       "4  ...   17.1  15.8  3.4  3.4  6.8  0.171  -0.6   3.6  3.0   2.4  \n",
       "\n",
       "[5 rows x 48 columns]"
      ]
     },
     "execution_count": 14,
     "metadata": {},
     "output_type": "execute_result"
    }
   ],
   "source": [
    "player_18_19_df_cleaned.head()"
   ]
  },
  {
   "cell_type": "markdown",
   "metadata": {},
   "source": [
    "#### Checking Normality of conditional distributions with Shapiro-Wilk Test"
   ]
  },
  {
   "cell_type": "code",
   "execution_count": 43,
   "metadata": {
    "scrolled": true
   },
   "outputs": [
    {
     "name": "stderr",
     "output_type": "stream",
     "text": [
      "C:\\Users\\josh\\Anaconda3\\lib\\site-packages\\scipy\\stats\\morestats.py:1307: UserWarning: Input data for shapiro has range zero. The results may not be accurate.\n",
      "  warnings.warn(\"Input data for shapiro has range zero. The results \"\n"
     ]
    }
   ],
   "source": [
    "from scipy.stats import shapiro\n",
    "\n",
    "not_gaussian_one = []\n",
    "not_gaussian_zero = []\n",
    "\n",
    "for i in player_17_18_df_cleaned.select_dtypes(include=['int','float']).columns.tolist():\n",
    "    stat, p = shapiro(player_17_18_df_cleaned[player_17_18_df_cleaned.all_star_bool==1][i])\n",
    "    stat2, p2 = shapiro(player_17_18_df_cleaned[player_17_18_df_cleaned.all_star_bool==0][i])\n",
    "    if p <= 0.05:\n",
    "        not_gaussian_one.append(i)\n",
    "    if p2 <= 0.05:\n",
    "        not_gaussian_zero.append(i)"
   ]
  },
  {
   "cell_type": "code",
   "execution_count": 44,
   "metadata": {},
   "outputs": [
    {
     "data": {
      "text/plain": [
       "['G', 'GS', '3P%', 'ORB', 'TRB', 'BLK', 'TOV', 'ORB%', 'TRB%', 'BLK%']"
      ]
     },
     "execution_count": 44,
     "metadata": {},
     "output_type": "execute_result"
    }
   ],
   "source": [
    "not_gaussian_one"
   ]
  },
  {
   "cell_type": "code",
   "execution_count": 45,
   "metadata": {
    "scrolled": true
   },
   "outputs": [
    {
     "data": {
      "text/plain": [
       "['Age',\n",
       " 'G',\n",
       " 'GS',\n",
       " 'MP',\n",
       " 'FG',\n",
       " 'FGA',\n",
       " '3P',\n",
       " '3PA',\n",
       " '2P',\n",
       " '2PA',\n",
       " 'FT',\n",
       " 'FTA',\n",
       " 'ORB',\n",
       " 'DRB',\n",
       " 'TRB',\n",
       " 'AST',\n",
       " 'STL',\n",
       " 'BLK',\n",
       " 'TOV',\n",
       " 'PF',\n",
       " 'PTS',\n",
       " 'PER',\n",
       " 'ORB%',\n",
       " 'DRB%',\n",
       " 'TRB%',\n",
       " 'AST%',\n",
       " 'STL%',\n",
       " 'BLK%',\n",
       " 'USG%',\n",
       " 'OWS',\n",
       " 'DWS',\n",
       " 'WS',\n",
       " 'WS/48',\n",
       " 'OBPM',\n",
       " 'DBPM',\n",
       " 'BPM',\n",
       " 'VORP']"
      ]
     },
     "execution_count": 45,
     "metadata": {},
     "output_type": "execute_result"
    }
   ],
   "source": [
    "not_gaussian_zero"
   ]
  },
  {
   "cell_type": "markdown",
   "metadata": {},
   "source": [
    "## Instagram Follower Numbers for Major NBA Players"
   ]
  },
  {
   "cell_type": "code",
   "execution_count": 15,
   "metadata": {},
   "outputs": [],
   "source": [
    "NBA_insta = ['giannis_an34','stephencurry30', 'kingjames', 'jharden13', 'antdavis23',\n",
    " 'joelembiid', 'ygtrece', 'damianlillard','karltowns', 'jimmybutler',\n",
    "'kyrieirving', 'rudygobert27','russwest44',\n",
    " 'bensimmons', 'blakegriffin23', '_kw15', 'bradbeal3', 'money23green', 'alhorford',\n",
    "'lukadoncic', 'swipathefox','cp3', 'pskills43', 'jrue_holiday11', 'dbook', 'mac10', 'kyle_lowry7',\n",
    "'k_mid22','spidadmitchell','aldridge_121', '3jmccollum','jaytatum0','jmglitxh27','kporzee','easymoneysniper', \n",
    "'demar_derozan', 'andredrummondd', 'kevinlove', 'tobiasharris', 'klaythompson', 'vicoladipo', 'turner_myles',\n",
    "'danilogallogallinari', 'dloading', 'traeyoung','paulmilsap4', 'jcollins20_', 'stevenadams',  'marcgasol',\n",
    "'malcolmbrogdon', 'ottodayporter22','buddylove242', 'joeingles7', 'thats_g_', 'thebledshow', 'carislavert',\n",
    "'jrich_0', 'fchwpo', 'louwillville', 'youngamechanger', 'shai', 'zachlavine8', 'ccapela15', 'dsabonis11', \n",
    "'gordonhayward', '22wiggins', '1ngram4', 'ruuufio', 'fredvanvleet', 'dtaegraham', 'zo',  'deandreayton',\n",
    "'zionwilliamson', 'jamorant', 'rjbarrett', 'nolimitherro', 'nunnbetter_', 'bam1of1', '23.savage23', 'hassanwhiteside','carmeloanthony']"
   ]
  },
  {
   "cell_type": "code",
   "execution_count": 16,
   "metadata": {},
   "outputs": [],
   "source": [
    "import requests\n",
    "\n",
    "NBA_insta_follower_num = []\n",
    "\n",
    "for player in NBA_insta:\n",
    "\n",
    "    user = player\n",
    "    url = 'https://www.instagram.com/' + user\n",
    "    r = requests.get(url).text\n",
    "\n",
    "    start = '\"edge_followed_by\":{\"count\":'\n",
    "    end = '},\"followed_by_viewer\"'\n",
    "\n",
    "    NBA_insta_follower_num.append(r[r.find(start)+len(start):r.rfind(end)])"
   ]
  },
  {
   "cell_type": "code",
   "execution_count": 17,
   "metadata": {},
   "outputs": [],
   "source": [
    "insta_df = pd.concat([pd.Series(NBA_insta), pd.Series(NBA_insta_follower_num)], axis=1)"
   ]
  },
  {
   "cell_type": "code",
   "execution_count": 18,
   "metadata": {},
   "outputs": [],
   "source": [
    "insta_df.columns = ['player_ig_handle', 'follower_num']"
   ]
  },
  {
   "cell_type": "code",
   "execution_count": 19,
   "metadata": {},
   "outputs": [],
   "source": [
    "guards = ['stephencurry30', 'jharden13', 'damianlillard', 'jimmybutler', 'kyrieirving', 'russwest44', 'bradbeal3', 'lukadoncic', \n",
    "'swipathefox', 'cp3', 'jrue_holiday11', 'dbook', 'mac10', 'kyle_lowry7', 'k_mid22', 'spidadmitchell', '3jmccollum', \n",
    "'jmglitxh27', 'demar_derozan', 'klaythompson', 'vicoladipo', 'dloading', 'traeyoung', 'malcolmbrogdon', 'buddylove242', \n",
    "'joeingles7', 'thebledshow', 'thats_g_', 'jrich_0', 'louwillville', 'shai', 'fchwpo', 'zachlavine8', 'youngamechanger', \n",
    "'1ngram4', 'zo', 'fredvanvleet', 'ruuufio', 'dtaegraham', 'jamorant', 'rjbarrett', 'nolimitherro', 'nunnbetter_', 'bensimmons']"
   ]
  },
  {
   "cell_type": "code",
   "execution_count": 20,
   "metadata": {},
   "outputs": [],
   "source": [
    "forwards = ['giannis_an34', 'kingjames', 'antdavis23', 'blakegriffin23', '_kw15', 'ygtrece', 'money23green', \n",
    "            'alhorford', 'pskills43', 'aldridge_121', 'jaytatum0', 'kporzee', 'easymoneysniper', 'kevinlove', 'tobiasharris', \n",
    "            'danilogallogallinari', 'paulmilsap4', 'ottodayporter22', 'carislavert', \n",
    "            'zionwilliamson', 'carmeloanthony', 'gordonhayward', '22wiggins']"
   ]
  },
  {
   "cell_type": "code",
   "execution_count": 21,
   "metadata": {},
   "outputs": [],
   "source": [
    "center = ['joelembiid', 'karltowns', 'rudygobert27', 'andredrummondd', 'turner_myles', 'jcollins20_', 'stevenadams', 'marcgasol', \n",
    "          'ccapela15', 'dsabonis11', 'deandreayton', '23.savage23', 'hassanwhiteside','bam1of1']"
   ]
  },
  {
   "cell_type": "code",
   "execution_count": 22,
   "metadata": {},
   "outputs": [],
   "source": [
    "# Encoding \"guard\" players\n",
    "insta_df['position'] = np.where(insta_df.player_ig_handle.isin(guards), 'guard', 'forward or center')"
   ]
  },
  {
   "cell_type": "code",
   "execution_count": 23,
   "metadata": {},
   "outputs": [],
   "source": [
    "# Encoding \"forward\" players\n",
    "insta_df['position'] = np.where(insta_df.player_ig_handle.isin(forwards), 'forward', insta_df.position)"
   ]
  },
  {
   "cell_type": "code",
   "execution_count": 24,
   "metadata": {},
   "outputs": [],
   "source": [
    "# Encoding \"center\" players\n",
    "insta_df['position'] = np.where(insta_df.player_ig_handle.isin(center), 'center', insta_df.position)"
   ]
  },
  {
   "cell_type": "code",
   "execution_count": 26,
   "metadata": {},
   "outputs": [
    {
     "data": {
      "text/html": [
       "<div>\n",
       "<style scoped>\n",
       "    .dataframe tbody tr th:only-of-type {\n",
       "        vertical-align: middle;\n",
       "    }\n",
       "\n",
       "    .dataframe tbody tr th {\n",
       "        vertical-align: top;\n",
       "    }\n",
       "\n",
       "    .dataframe thead th {\n",
       "        text-align: right;\n",
       "    }\n",
       "</style>\n",
       "<table border=\"1\" class=\"dataframe\">\n",
       "  <thead>\n",
       "    <tr style=\"text-align: right;\">\n",
       "      <th></th>\n",
       "      <th>player_ig_handle</th>\n",
       "      <th>follower_num</th>\n",
       "      <th>position</th>\n",
       "    </tr>\n",
       "  </thead>\n",
       "  <tbody>\n",
       "    <tr>\n",
       "      <th>0</th>\n",
       "      <td>giannis_an34</td>\n",
       "      <td>6389945</td>\n",
       "      <td>forward</td>\n",
       "    </tr>\n",
       "    <tr>\n",
       "      <th>1</th>\n",
       "      <td>stephencurry30</td>\n",
       "      <td>27753089</td>\n",
       "      <td>guard</td>\n",
       "    </tr>\n",
       "    <tr>\n",
       "      <th>2</th>\n",
       "      <td>kingjames</td>\n",
       "      <td>53436120</td>\n",
       "      <td>forward</td>\n",
       "    </tr>\n",
       "    <tr>\n",
       "      <th>3</th>\n",
       "      <td>jharden13</td>\n",
       "      <td>10983329</td>\n",
       "      <td>guard</td>\n",
       "    </tr>\n",
       "    <tr>\n",
       "      <th>4</th>\n",
       "      <td>antdavis23</td>\n",
       "      <td>4845788</td>\n",
       "      <td>forward</td>\n",
       "    </tr>\n",
       "  </tbody>\n",
       "</table>\n",
       "</div>"
      ],
      "text/plain": [
       "  player_ig_handle follower_num position\n",
       "0     giannis_an34      6389945  forward\n",
       "1   stephencurry30     27753089    guard\n",
       "2        kingjames     53436120  forward\n",
       "3        jharden13     10983329    guard\n",
       "4       antdavis23      4845788  forward"
      ]
     },
     "execution_count": 26,
     "metadata": {},
     "output_type": "execute_result"
    }
   ],
   "source": [
    "insta_df.head()"
   ]
  },
  {
   "cell_type": "code",
   "execution_count": 25,
   "metadata": {},
   "outputs": [],
   "source": [
    "# insta_df.to_csv(\"major_player_insta_follow_num.csv\")"
   ]
  }
 ],
 "metadata": {
  "kernelspec": {
   "display_name": "Python 3",
   "language": "python",
   "name": "python3"
  },
  "language_info": {
   "codemirror_mode": {
    "name": "ipython",
    "version": 3
   },
   "file_extension": ".py",
   "mimetype": "text/x-python",
   "name": "python",
   "nbconvert_exporter": "python",
   "pygments_lexer": "ipython3",
   "version": "3.6.6"
  }
 },
 "nbformat": 4,
 "nbformat_minor": 2
}

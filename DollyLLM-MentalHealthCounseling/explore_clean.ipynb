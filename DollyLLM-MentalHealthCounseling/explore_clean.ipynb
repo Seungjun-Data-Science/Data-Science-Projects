{
 "cells": [
  {
   "cell_type": "markdown",
   "metadata": {},
   "source": [
    "### Import relevant packages"
   ]
  },
  {
   "cell_type": "code",
   "execution_count": 2,
   "metadata": {},
   "outputs": [],
   "source": [
    "import pandas as pd\n",
    "import numpy as np\n",
    "import seaborn as sns\n",
    "import matplotlib.pyplot as plt"
   ]
  },
  {
   "cell_type": "markdown",
   "metadata": {},
   "source": [
    "### Read in data and keep only anxiety, depression, and stress related data points"
   ]
  },
  {
   "cell_type": "code",
   "execution_count": 3,
   "metadata": {},
   "outputs": [],
   "source": [
    "df = pd.read_csv(\"data_counsel_chat.csv\")"
   ]
  },
  {
   "cell_type": "code",
   "execution_count": 4,
   "metadata": {},
   "outputs": [],
   "source": [
    "options = ['anxiety', 'depression', 'stress'] \n",
    "df = df[df['topic'].isin(options)]"
   ]
  },
  {
   "cell_type": "markdown",
   "metadata": {},
   "source": [
    "### Basic Exploration of Data"
   ]
  },
  {
   "cell_type": "code",
   "execution_count": 5,
   "metadata": {},
   "outputs": [
    {
     "name": "stdout",
     "output_type": "stream",
     "text": [
      "(586, 12)\n"
     ]
    }
   ],
   "source": [
    "# Number of observations and columns\n",
    "print(df.shape)"
   ]
  },
  {
   "cell_type": "code",
   "execution_count": 6,
   "metadata": {},
   "outputs": [
    {
     "name": "stdout",
     "output_type": "stream",
     "text": [
      "Number of unique questions:  223\n"
     ]
    }
   ],
   "source": [
    "# Number of unique questions\n",
    "print(\"Number of unique questions: \", df.questionID.nunique())"
   ]
  },
  {
   "cell_type": "code",
   "execution_count": 7,
   "metadata": {},
   "outputs": [
    {
     "name": "stdout",
     "output_type": "stream",
     "text": [
      "Number of unique therapists:  183\n"
     ]
    }
   ],
   "source": [
    "# Number of unique therapists \n",
    "print(\"Number of unique therapists: \", df.therapistInfo.nunique())"
   ]
  },
  {
   "cell_type": "code",
   "execution_count": 8,
   "metadata": {},
   "outputs": [
    {
     "data": {
      "text/html": [
       "<div>\n",
       "<style scoped>\n",
       "    .dataframe tbody tr th:only-of-type {\n",
       "        vertical-align: middle;\n",
       "    }\n",
       "\n",
       "    .dataframe tbody tr th {\n",
       "        vertical-align: top;\n",
       "    }\n",
       "\n",
       "    .dataframe thead th {\n",
       "        text-align: right;\n",
       "    }\n",
       "</style>\n",
       "<table border=\"1\" class=\"dataframe\">\n",
       "  <thead>\n",
       "    <tr style=\"text-align: right;\">\n",
       "      <th></th>\n",
       "      <th>views</th>\n",
       "      <th>upvotes</th>\n",
       "    </tr>\n",
       "  </thead>\n",
       "  <tbody>\n",
       "    <tr>\n",
       "      <th>views</th>\n",
       "      <td>1.000000</td>\n",
       "      <td>0.285856</td>\n",
       "    </tr>\n",
       "    <tr>\n",
       "      <th>upvotes</th>\n",
       "      <td>0.285856</td>\n",
       "      <td>1.000000</td>\n",
       "    </tr>\n",
       "  </tbody>\n",
       "</table>\n",
       "</div>"
      ],
      "text/plain": [
       "            views   upvotes\n",
       "views    1.000000  0.285856\n",
       "upvotes  0.285856  1.000000"
      ]
     },
     "execution_count": 8,
     "metadata": {},
     "output_type": "execute_result"
    }
   ],
   "source": [
    "# Correlaton between upvotes and views\n",
    "df[['views', 'upvotes']].corr()"
   ]
  },
  {
   "cell_type": "code",
   "execution_count": 9,
   "metadata": {},
   "outputs": [
    {
     "data": {
      "text/plain": [
       "<seaborn.axisgrid.FacetGrid at 0x7ff3e5693bb0>"
      ]
     },
     "execution_count": 9,
     "metadata": {},
     "output_type": "execute_result"
    },
    {
     "data": {
      "image/png": "[encoded data removed]",
      "text/plain": [
       "<Figure size 500x500 with 1 Axes>"
      ]
     },
     "metadata": {},
     "output_type": "display_data"
    }
   ],
   "source": [
    "# Distribution plot of views feature\n",
    "sns.displot(df.views)"
   ]
  },
  {
   "cell_type": "code",
   "execution_count": 10,
   "metadata": {
    "scrolled": true
   },
   "outputs": [
    {
     "data": {
      "text/plain": [
       "<Axes: xlabel='upvotes', ylabel='Count'>"
      ]
     },
     "execution_count": 10,
     "metadata": {},
     "output_type": "execute_result"
    },
    {
     "data": {
      "image/png": "[encoded data removed]",
      "text/plain": [
       "<Figure size 640x480 with 1 Axes>"
      ]
     },
     "metadata": {},
     "output_type": "display_data"
    }
   ],
   "source": [
    "# Distribution plot of upvotes feature\n",
    "sns.histplot(df.upvotes)"
   ]
  },
  {
   "cell_type": "markdown",
   "metadata": {},
   "source": [
    "### Basic Cleaning"
   ]
  },
  {
   "cell_type": "code",
   "execution_count": 11,
   "metadata": {},
   "outputs": [],
   "source": [
    "import unicodedata"
   ]
  },
  {
   "cell_type": "code",
   "execution_count": 12,
   "metadata": {},
   "outputs": [],
   "source": [
    "# Clean left-over unicode in text\n",
    "df['answerText'] = df.answerText.apply(lambda x: unicodedata.normalize(\"NFKD\", x))"
   ]
  },
  {
   "cell_type": "code",
   "execution_count": 13,
   "metadata": {},
   "outputs": [],
   "source": [
    "# Remove extraneous bars in the text\n",
    "df['answerText'] = df.answerText.str.replace('-','')"
   ]
  },
  {
   "cell_type": "code",
   "execution_count": 14,
   "metadata": {},
   "outputs": [],
   "source": [
    "# # Cosine Similarity\n",
    "# from sklearn.feature_extraction.text import TfidfVectorizer\n",
    "# from sklearn.metrics.pairwise import cosine_similarity\n",
    "\n",
    "# def calculate_cosine_similarity(text1, text2):\n",
    "#     # Create a TfidfVectorizer object\n",
    "#     vectorizer = TfidfVectorizer()\n",
    "\n",
    "#     # Fit and transform the texts into TF-IDF feature vectors\n",
    "#     tfidf_matrix = vectorizer.fit_transform([text1, text2])\n",
    "\n",
    "#     # Calculate the cosine similarity between the vectors\n",
    "#     cosine_sim = cosine_similarity(tfidf_matrix[0], tfidf_matrix[1])[0][0]\n",
    "\n",
    "#     return cosine_sim\n",
    "\n",
    "# # # Example usage\n",
    "# # text1 = \"I enjoy playing soccer.\"\n",
    "# # text2 = \"I love playing basketball.\"\n",
    "# text1 = \"\"\"\n",
    "# Feelings are real, is very unlikely that you are making them up since they are a response to the thoughts in your mind and your daily experiences and interactions. Often we assume that feeling sadness is bad and that we should only feel happiness and joy; but all feelings have a purpose: joy, sadness, anger, frustration, excitement, anxiety, among others.   Is not healthy to experience the same feeling for a long time, so we should learn to identify what causes them and how to process them so you can navigate through life experiences with more ease. I am a Licensed Professional Counselor in Texas, currently providing services in West Houston.  You may reach me at 7874665478 to schedule an appointment.\n",
    "# \"\"\"\n",
    "# similarity = calculate_cosine_similarity(text1, chatgpt_response)\n",
    "# print(f\"Cosine Similarity: {similarity}\")\n"
   ]
  },
  {
   "cell_type": "markdown",
   "metadata": {},
   "source": [
    "ref) Different prompting (e.g. A Patient said (some question text). Imagine you are a counselor. What would you tell this patient? v.s. As a counselor, can you provide counseling for this patient?) returns different style of answers from the LLM."
   ]
  },
  {
   "cell_type": "markdown",
   "metadata": {},
   "source": [
    "### Save the file"
   ]
  },
  {
   "cell_type": "code",
   "execution_count": 15,
   "metadata": {},
   "outputs": [],
   "source": [
    "df.to_csv(\"data_counsel_chat_cleaned.csv\")"
   ]
  }
 ],
 "metadata": {
  "kernelspec": {
   "display_name": "Python 3 (ipykernel)",
   "language": "python",
   "name": "python3"
  },
  "language_info": {
   "codemirror_mode": {
    "name": "ipython",
    "version": 3
   },
   "file_extension": ".py",
   "mimetype": "text/x-python",
   "name": "python",
   "nbconvert_exporter": "python",
   "pygments_lexer": "ipython3",
   "version": "3.10.6"
  }
 },
 "nbformat": 4,
 "nbformat_minor": 2
}

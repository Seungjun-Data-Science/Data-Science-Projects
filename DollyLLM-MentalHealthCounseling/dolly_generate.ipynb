{
 "cells": [
  {
   "cell_type": "code",
   "execution_count": 2,
   "metadata": {
    "execution": {
     "iopub.execute_input": "2023-05-23T19:57:15.758267Z",
     "iopub.status.busy": "2023-05-23T19:57:15.757610Z",
     "iopub.status.idle": "2023-05-23T19:59:10.151649Z",
     "shell.execute_reply": "2023-05-23T19:59:10.150547Z",
     "shell.execute_reply.started": "2023-05-23T19:57:15.758229Z"
    }
   },
   "outputs": [
    {
     "name": "stdout",
     "output_type": "stream",
     "text": [
      "Defaulting to user installation because normal site-packages is not writeable\n",
      "Collecting accelerate<1,>=0.16.0\n",
      "  Downloading accelerate-0.19.0-py3-none-any.whl (219 kB)\n",
      "\u001b[2K     \u001b[38;2;114;156;31m━━━━━━━━━━━━━━━━━━━━━━━━━━━━━━━━━━━━━━━\u001b[0m \u001b[32m219.1/219.1 KB\u001b[0m \u001b[31m9.7 MB/s\u001b[0m eta \u001b[36m0:00:00\u001b[0m\n",
      "\u001b[?25hCollecting transformers[torch]<5,>=4.28.1\n",
      "  Downloading transformers-4.29.2-py3-none-any.whl (7.1 MB)\n",
      "\u001b[2K     \u001b[38;2;114;156;31m━━━━━━━━━━━━━━━━━━━━━━━━━━━━━━━━━━━━━━━━\u001b[0m \u001b[32m7.1/7.1 MB\u001b[0m \u001b[31m40.4 MB/s\u001b[0m eta \u001b[36m0:00:00\u001b[0mm eta \u001b[36m0:00:01\u001b[0m[36m0:00:01\u001b[0m\n",
      "\u001b[?25hCollecting torch<2,>=1.13.1\n",
      "  Downloading torch-1.13.1-cp310-cp310-manylinux1_x86_64.whl (887.5 MB)\n",
      "\u001b[2K     \u001b[38;2;114;156;31m━━━━━━━━━━━━━━━━━━━━━━━━━━━━━━━━━━━━━━━\u001b[0m \u001b[32m887.5/887.5 MB\u001b[0m \u001b[31m4.9 MB/s\u001b[0m eta \u001b[36m0:00:00\u001b[0mm eta \u001b[36m0:00:01\u001b[0m[36m0:00:01\u001b[0m\n",
      "\u001b[?25hRequirement already satisfied: pyyaml in /usr/lib/python3/dist-packages (from accelerate<1,>=0.16.0) (5.4.1)\n",
      "Requirement already satisfied: packaging>=20.0 in /home/simon/.local/lib/python3.10/site-packages (from accelerate<1,>=0.16.0) (23.1)\n",
      "Requirement already satisfied: numpy>=1.17 in /home/simon/.local/lib/python3.10/site-packages (from accelerate<1,>=0.16.0) (1.23.3)\n",
      "Requirement already satisfied: psutil in /home/simon/.local/lib/python3.10/site-packages (from accelerate<1,>=0.16.0) (5.9.5)\n",
      "Collecting tokenizers!=0.11.3,<0.14,>=0.11.1\n",
      "  Downloading tokenizers-0.13.3-cp310-cp310-manylinux_2_17_x86_64.manylinux2014_x86_64.whl (7.8 MB)\n",
      "\u001b[2K     \u001b[38;2;114;156;31m━━━━━━━━━━━━━━━━━━━━━━━━━━━━━━━━━━━━━━━━\u001b[0m \u001b[32m7.8/7.8 MB\u001b[0m \u001b[31m81.9 MB/s\u001b[0m eta \u001b[36m0:00:00\u001b[0m0m eta \u001b[36m0:00:01\u001b[0m0:01\u001b[0m\n",
      "\u001b[?25hCollecting huggingface-hub<1.0,>=0.14.1\n",
      "  Downloading huggingface_hub-0.15.1-py3-none-any.whl (236 kB)\n",
      "\u001b[2K     \u001b[38;2;114;156;31m━━━━━━━━━━━━━━━━━━━━━━━━━━━━━━━━━━━━━━\u001b[0m \u001b[32m236.8/236.8 KB\u001b[0m \u001b[31m72.5 MB/s\u001b[0m eta \u001b[36m0:00:00\u001b[0m\n",
      "\u001b[?25hRequirement already satisfied: filelock in /home/simon/.local/lib/python3.10/site-packages (from transformers[torch]<5,>=4.28.1) (3.11.0)\n",
      "Collecting regex!=2019.12.17\n",
      "  Downloading regex-2023.5.5-cp310-cp310-manylinux_2_17_x86_64.manylinux2014_x86_64.whl (769 kB)\n",
      "\u001b[2K     \u001b[38;2;114;156;31m━━━━━━━━━━━━━━━━━━━━━━━━━━━━━━━━━━━━━━\u001b[0m \u001b[32m769.7/769.7 KB\u001b[0m \u001b[31m91.2 MB/s\u001b[0m eta \u001b[36m0:00:00\u001b[0m\n",
      "\u001b[?25hRequirement already satisfied: requests in /usr/lib/python3/dist-packages (from transformers[torch]<5,>=4.28.1) (2.25.1)\n",
      "Requirement already satisfied: tqdm>=4.27 in /home/simon/.local/lib/python3.10/site-packages (from transformers[torch]<5,>=4.28.1) (4.64.1)\n",
      "Requirement already satisfied: nvidia-cublas-cu11==11.10.3.66 in /home/simon/.local/lib/python3.10/site-packages (from torch<2,>=1.13.1) (11.10.3.66)\n",
      "Requirement already satisfied: typing-extensions in /home/simon/.local/lib/python3.10/site-packages (from torch<2,>=1.13.1) (4.5.0)\n",
      "Requirement already satisfied: nvidia-cuda-nvrtc-cu11==11.7.99 in /home/simon/.local/lib/python3.10/site-packages (from torch<2,>=1.13.1) (11.7.99)\n",
      "Requirement already satisfied: nvidia-cuda-runtime-cu11==11.7.99 in /home/simon/.local/lib/python3.10/site-packages (from torch<2,>=1.13.1) (11.7.99)\n",
      "Requirement already satisfied: nvidia-cudnn-cu11==8.5.0.96 in /home/simon/.local/lib/python3.10/site-packages (from torch<2,>=1.13.1) (8.5.0.96)\n",
      "Requirement already satisfied: setuptools in /usr/lib/python3/dist-packages (from nvidia-cublas-cu11==11.10.3.66->torch<2,>=1.13.1) (59.6.0)\n",
      "Requirement already satisfied: wheel in /usr/lib/python3/dist-packages (from nvidia-cublas-cu11==11.10.3.66->torch<2,>=1.13.1) (0.37.1)\n",
      "Collecting fsspec\n",
      "  Downloading fsspec-2023.5.0-py3-none-any.whl (160 kB)\n",
      "\u001b[2K     \u001b[38;2;114;156;31m━━━━━━━━━━━━━━━━━━━━━━━━━━━━━━━━━━━━━━\u001b[0m \u001b[32m160.1/160.1 KB\u001b[0m \u001b[31m56.9 MB/s\u001b[0m eta \u001b[36m0:00:00\u001b[0m\n",
      "\u001b[?25hInstalling collected packages: tokenizers, regex, fsspec, huggingface-hub, transformers, torch, accelerate\n",
      "  Attempting uninstall: torch\n",
      "    Found existing installation: torch 2.0.0\n",
      "    Uninstalling torch-2.0.0:\n",
      "      Successfully uninstalled torch-2.0.0\n",
      "Successfully installed accelerate-0.19.0 fsspec-2023.5.0 huggingface-hub-0.15.1 regex-2023.5.5 tokenizers-0.13.3 torch-1.13.1 transformers-4.29.2\n",
      "Note: you may need to restart the kernel to use updated packages.\n"
     ]
    }
   ],
   "source": [
    "%pip install \"accelerate>=0.16.0,<1\" \"transformers[torch]>=4.28.1,<5\" \"torch>=1.13.1,<2\""
   ]
  },
  {
   "cell_type": "code",
   "execution_count": 1,
   "metadata": {
    "_cell_guid": "b1076dfc-b9ad-4769-8c92-a6c4dae69d19",
    "_uuid": "8f2839f25d086af736a60e9eeb907d3b93b6e0e5",
    "execution": {
     "iopub.execute_input": "2023-05-23T20:01:17.037902Z",
     "iopub.status.busy": "2023-05-23T20:01:17.036759Z",
     "iopub.status.idle": "2023-05-23T20:01:17.834996Z",
     "shell.execute_reply": "2023-05-23T20:01:17.834028Z",
     "shell.execute_reply.started": "2023-05-23T20:01:17.037844Z"
    }
   },
   "outputs": [],
   "source": [
    "import pandas as pd\n",
    "import numpy as np\n",
    "\n",
    "from sklearn.model_selection import train_test_split\n",
    "\n",
    "from tqdm import trange\n",
    "from itertools import filterfalse\n",
    "from tqdm import trange\n",
    "from tqdm.notebook import tqdm\n",
    "import random\n",
    "\n",
    "# import contractions\n",
    "\n",
    "import re\n",
    "import time\n",
    "import gc"
   ]
  },
  {
   "cell_type": "code",
   "execution_count": 2,
   "metadata": {
    "execution": {
     "iopub.execute_input": "2023-05-23T20:01:23.556772Z",
     "iopub.status.busy": "2023-05-23T20:01:23.556377Z",
     "iopub.status.idle": "2023-05-23T20:01:23.664034Z",
     "shell.execute_reply": "2023-05-23T20:01:23.663221Z",
     "shell.execute_reply.started": "2023-05-23T20:01:23.556743Z"
    }
   },
   "outputs": [],
   "source": [
    "#  select data whose topic is anxiety, depression and stress \n",
    "raw_data = pd.read_csv('data_counsel_chat_cleaned.csv')\n",
    "options = ['anxiety', 'depression', 'stress'] \n",
    "chat_df = raw_data[raw_data['topic'].isin(options)] "
   ]
  },
  {
   "cell_type": "code",
   "execution_count": 3,
   "metadata": {
    "execution": {
     "iopub.execute_input": "2023-05-23T19:27:02.758624Z",
     "iopub.status.busy": "2023-05-23T19:27:02.757798Z",
     "iopub.status.idle": "2023-05-23T19:27:02.814566Z",
     "shell.execute_reply": "2023-05-23T19:27:02.813531Z",
     "shell.execute_reply.started": "2023-05-23T19:27:02.758580Z"
    }
   },
   "outputs": [
    {
     "data": {
      "text/html": [
       "<div>\n",
       "<style scoped>\n",
       "    .dataframe tbody tr th:only-of-type {\n",
       "        vertical-align: middle;\n",
       "    }\n",
       "\n",
       "    .dataframe tbody tr th {\n",
       "        vertical-align: top;\n",
       "    }\n",
       "\n",
       "    .dataframe thead th {\n",
       "        text-align: right;\n",
       "    }\n",
       "</style>\n",
       "<table border=\"1\" class=\"dataframe\">\n",
       "  <thead>\n",
       "    <tr style=\"text-align: right;\">\n",
       "      <th></th>\n",
       "      <th>Unnamed: 0.1</th>\n",
       "      <th>Unnamed: 0</th>\n",
       "      <th>questionID</th>\n",
       "      <th>questionTitle</th>\n",
       "      <th>questionText</th>\n",
       "      <th>questionLink</th>\n",
       "      <th>topic</th>\n",
       "      <th>therapistInfo</th>\n",
       "      <th>therapistURL</th>\n",
       "      <th>answerText</th>\n",
       "      <th>upvotes</th>\n",
       "      <th>views</th>\n",
       "      <th>split</th>\n",
       "    </tr>\n",
       "  </thead>\n",
       "  <tbody>\n",
       "    <tr>\n",
       "      <th>581</th>\n",
       "      <td>1818</td>\n",
       "      <td>1818</td>\n",
       "      <td>860</td>\n",
       "      <td>How can I be less stressed?</td>\n",
       "      <td>I need help dealing with stress. How can I han...</td>\n",
       "      <td>https://counselchat.com/questions/how-can-i-be...</td>\n",
       "      <td>stress</td>\n",
       "      <td>Linda AbdelsayedChange is the only constant in...</td>\n",
       "      <td>https://counselchat.com/therapists/linda-abdel...</td>\n",
       "      <td>There are many causes for feeling stressed out...</td>\n",
       "      <td>0</td>\n",
       "      <td>25</td>\n",
       "      <td>train</td>\n",
       "    </tr>\n",
       "    <tr>\n",
       "      <th>582</th>\n",
       "      <td>1819</td>\n",
       "      <td>1819</td>\n",
       "      <td>861</td>\n",
       "      <td>How can I be less stressed?</td>\n",
       "      <td>I need help knowing how to deal with stress. W...</td>\n",
       "      <td>https://counselchat.com/questions/how-can-i-be...</td>\n",
       "      <td>stress</td>\n",
       "      <td>Sherry Katz, LCSWCouples and Family Therapist,...</td>\n",
       "      <td>https://counselchat.com/therapists/sherry-katz...</td>\n",
       "      <td>Something different works for each of us.There...</td>\n",
       "      <td>0</td>\n",
       "      <td>97</td>\n",
       "      <td>train</td>\n",
       "    </tr>\n",
       "    <tr>\n",
       "      <th>583</th>\n",
       "      <td>1820</td>\n",
       "      <td>1820</td>\n",
       "      <td>861</td>\n",
       "      <td>How can I be less stressed?</td>\n",
       "      <td>I need help knowing how to deal with stress. W...</td>\n",
       "      <td>https://counselchat.com/questions/how-can-i-be...</td>\n",
       "      <td>stress</td>\n",
       "      <td>Kim HollingdaleMind-Body Approaches to Stress,...</td>\n",
       "      <td>https://counselchat.com/therapists/kim-holling...</td>\n",
       "      <td>Our body reacts to stress typically by breathi...</td>\n",
       "      <td>0</td>\n",
       "      <td>75</td>\n",
       "      <td>train</td>\n",
       "    </tr>\n",
       "    <tr>\n",
       "      <th>584</th>\n",
       "      <td>1821</td>\n",
       "      <td>1821</td>\n",
       "      <td>861</td>\n",
       "      <td>How can I be less stressed?</td>\n",
       "      <td>I need help knowing how to deal with stress. W...</td>\n",
       "      <td>https://counselchat.com/questions/how-can-i-be...</td>\n",
       "      <td>stress</td>\n",
       "      <td>Linda LawlessA Safe Place To Be</td>\n",
       "      <td>https://counselchat.com/therapists/linda-lawless</td>\n",
       "      <td>Learn how to meditate. I recommend a Mindful B...</td>\n",
       "      <td>0</td>\n",
       "      <td>45</td>\n",
       "      <td>train</td>\n",
       "    </tr>\n",
       "    <tr>\n",
       "      <th>585</th>\n",
       "      <td>1822</td>\n",
       "      <td>1822</td>\n",
       "      <td>862</td>\n",
       "      <td>How do I relieve stress and find balance?</td>\n",
       "      <td>I'm in my late 20s. I have two jobs right now,...</td>\n",
       "      <td>https://counselchat.com/questions/how-do-i-rel...</td>\n",
       "      <td>stress</td>\n",
       "      <td>Richie (Yerachmiel) DonowitzExperienced - Comp...</td>\n",
       "      <td>https://counselchat.com/therapists/richie-yera...</td>\n",
       "      <td>A good start is to pay attention to some basic...</td>\n",
       "      <td>0</td>\n",
       "      <td>49</td>\n",
       "      <td>train</td>\n",
       "    </tr>\n",
       "  </tbody>\n",
       "</table>\n",
       "</div>"
      ],
      "text/plain": [
       "     Unnamed: 0.1  Unnamed: 0  questionID  \\\n",
       "581          1818        1818         860   \n",
       "582          1819        1819         861   \n",
       "583          1820        1820         861   \n",
       "584          1821        1821         861   \n",
       "585          1822        1822         862   \n",
       "\n",
       "                                 questionTitle  \\\n",
       "581                How can I be less stressed?   \n",
       "582                How can I be less stressed?   \n",
       "583                How can I be less stressed?   \n",
       "584                How can I be less stressed?   \n",
       "585  How do I relieve stress and find balance?   \n",
       "\n",
       "                                          questionText  \\\n",
       "581  I need help dealing with stress. How can I han...   \n",
       "582  I need help knowing how to deal with stress. W...   \n",
       "583  I need help knowing how to deal with stress. W...   \n",
       "584  I need help knowing how to deal with stress. W...   \n",
       "585  I'm in my late 20s. I have two jobs right now,...   \n",
       "\n",
       "                                          questionLink   topic  \\\n",
       "581  https://counselchat.com/questions/how-can-i-be...  stress   \n",
       "582  https://counselchat.com/questions/how-can-i-be...  stress   \n",
       "583  https://counselchat.com/questions/how-can-i-be...  stress   \n",
       "584  https://counselchat.com/questions/how-can-i-be...  stress   \n",
       "585  https://counselchat.com/questions/how-do-i-rel...  stress   \n",
       "\n",
       "                                         therapistInfo  \\\n",
       "581  Linda AbdelsayedChange is the only constant in...   \n",
       "582  Sherry Katz, LCSWCouples and Family Therapist,...   \n",
       "583  Kim HollingdaleMind-Body Approaches to Stress,...   \n",
       "584                    Linda LawlessA Safe Place To Be   \n",
       "585  Richie (Yerachmiel) DonowitzExperienced - Comp...   \n",
       "\n",
       "                                          therapistURL  \\\n",
       "581  https://counselchat.com/therapists/linda-abdel...   \n",
       "582  https://counselchat.com/therapists/sherry-katz...   \n",
       "583  https://counselchat.com/therapists/kim-holling...   \n",
       "584   https://counselchat.com/therapists/linda-lawless   \n",
       "585  https://counselchat.com/therapists/richie-yera...   \n",
       "\n",
       "                                            answerText  upvotes  views  split  \n",
       "581  There are many causes for feeling stressed out...        0     25  train  \n",
       "582  Something different works for each of us.There...        0     97  train  \n",
       "583  Our body reacts to stress typically by breathi...        0     75  train  \n",
       "584  Learn how to meditate. I recommend a Mindful B...        0     45  train  \n",
       "585  A good start is to pay attention to some basic...        0     49  train  "
      ]
     },
     "execution_count": 3,
     "metadata": {},
     "output_type": "execute_result"
    }
   ],
   "source": [
    "chat_df.tail()"
   ]
  },
  {
   "cell_type": "code",
   "execution_count": 4,
   "metadata": {
    "execution": {
     "iopub.execute_input": "2023-05-23T19:29:03.238776Z",
     "iopub.status.busy": "2023-05-23T19:29:03.238285Z",
     "iopub.status.idle": "2023-05-23T19:29:03.249600Z",
     "shell.execute_reply": "2023-05-23T19:29:03.248103Z",
     "shell.execute_reply.started": "2023-05-23T19:29:03.238736Z"
    }
   },
   "outputs": [
    {
     "data": {
      "text/plain": [
       "(586, 13)"
      ]
     },
     "execution_count": 4,
     "metadata": {},
     "output_type": "execute_result"
    }
   ],
   "source": [
    "chat_df.shape"
   ]
  },
  {
   "cell_type": "code",
   "execution_count": 5,
   "metadata": {
    "execution": {
     "iopub.execute_input": "2023-05-23T19:27:12.351782Z",
     "iopub.status.busy": "2023-05-23T19:27:12.351403Z",
     "iopub.status.idle": "2023-05-23T19:27:12.383264Z",
     "shell.execute_reply": "2023-05-23T19:27:12.382365Z",
     "shell.execute_reply.started": "2023-05-23T19:27:12.351741Z"
    }
   },
   "outputs": [
    {
     "name": "stdout",
     "output_type": "stream",
     "text": [
      "<class 'pandas.core.frame.DataFrame'>\n",
      "RangeIndex: 586 entries, 0 to 585\n",
      "Data columns (total 13 columns):\n",
      " #   Column         Non-Null Count  Dtype \n",
      "---  ------         --------------  ----- \n",
      " 0   Unnamed: 0.1   586 non-null    int64 \n",
      " 1   Unnamed: 0     586 non-null    int64 \n",
      " 2   questionID     586 non-null    int64 \n",
      " 3   questionTitle  586 non-null    object\n",
      " 4   questionText   586 non-null    object\n",
      " 5   questionLink   586 non-null    object\n",
      " 6   topic          586 non-null    object\n",
      " 7   therapistInfo  586 non-null    object\n",
      " 8   therapistURL   586 non-null    object\n",
      " 9   answerText     586 non-null    object\n",
      " 10  upvotes        586 non-null    int64 \n",
      " 11  views          586 non-null    int64 \n",
      " 12  split          586 non-null    object\n",
      "dtypes: int64(5), object(8)\n",
      "memory usage: 59.6+ KB\n"
     ]
    }
   ],
   "source": [
    "chat_df.info()"
   ]
  },
  {
   "cell_type": "code",
   "execution_count": 6,
   "metadata": {
    "execution": {
     "iopub.execute_input": "2023-05-23T20:01:38.520394Z",
     "iopub.status.busy": "2023-05-23T20:01:38.519854Z",
     "iopub.status.idle": "2023-05-23T20:03:41.770429Z",
     "shell.execute_reply": "2023-05-23T20:03:41.769540Z",
     "shell.execute_reply.started": "2023-05-23T20:01:38.520351Z"
    }
   },
   "outputs": [],
   "source": [
    "import torch\n",
    "from transformers import pipeline\n",
    "\n",
    "generate_text = \\\n",
    "pipeline(model=\"databricks/dolly-v2-3b\", torch_dtype=torch.bfloat16, trust_remote_code=True, device_map=\"auto\")"
   ]
  },
  {
   "cell_type": "code",
   "execution_count": 7,
   "metadata": {
    "execution": {
     "iopub.execute_input": "2023-05-23T20:34:49.020025Z",
     "iopub.status.busy": "2023-05-23T20:34:49.016988Z",
     "iopub.status.idle": "2023-05-23T20:34:49.029726Z",
     "shell.execute_reply": "2023-05-23T20:34:49.028309Z",
     "shell.execute_reply.started": "2023-05-23T20:34:49.019922Z"
    }
   },
   "outputs": [],
   "source": [
    "def dolly_generate_response(question_text):\n",
    "    generated_text_obj = generate_text(question_text)\n",
    "    response = generated_text_obj[0][\"generated_text\"]\n",
    "    return response"
   ]
  },
  {
   "cell_type": "code",
   "execution_count": 8,
   "metadata": {
    "execution": {
     "iopub.execute_input": "2023-05-23T20:35:41.238387Z",
     "iopub.status.busy": "2023-05-23T20:35:41.237935Z"
    }
   },
   "outputs": [
    {
     "name": "stderr",
     "output_type": "stream",
     "text": [
      "generate dolly answers:   2%|██▋                                                                                                                                          | 11/586 [01:06<36:26,  3.80s/it]/home/simon/.local/lib/python3.10/site-packages/transformers/pipelines/base.py:1080: UserWarning: You seem to be using the pipelines sequentially on GPU. In order to maximize efficiency please use a dataset\n",
      "  warnings.warn(\n",
      "generate dolly answers: 100%|████████████████████████████████████████████████████████████████████████████████████████████████████████████████████████████████████████████| 586/586 [48:05<00:00,  4.92s/it]\n"
     ]
    }
   ],
   "source": [
    "# generate and save dolly's answers to question texts. \n",
    "from tqdm import tqdm\n",
    "\n",
    "tqdm.pandas(desc=\"generate dolly answers\")\n",
    "chat_df['dollyAnswerText'] = chat_df['questionText'].progress_apply(dolly_generate_response)"
   ]
  },
  {
   "cell_type": "code",
   "execution_count": 11,
   "metadata": {},
   "outputs": [
    {
     "name": "stdout",
     "output_type": "stream",
     "text": [
      "<class 'pandas.core.frame.DataFrame'>\n",
      "RangeIndex: 586 entries, 0 to 585\n",
      "Data columns (total 14 columns):\n",
      " #   Column           Non-Null Count  Dtype \n",
      "---  ------           --------------  ----- \n",
      " 0   Unnamed: 0.1     586 non-null    int64 \n",
      " 1   Unnamed: 0       586 non-null    int64 \n",
      " 2   questionID       586 non-null    int64 \n",
      " 3   questionTitle    586 non-null    object\n",
      " 4   questionText     586 non-null    object\n",
      " 5   questionLink     586 non-null    object\n",
      " 6   topic            586 non-null    object\n",
      " 7   therapistInfo    586 non-null    object\n",
      " 8   therapistURL     586 non-null    object\n",
      " 9   answerText       586 non-null    object\n",
      " 10  upvotes          586 non-null    int64 \n",
      " 11  views            586 non-null    int64 \n",
      " 12  split            586 non-null    object\n",
      " 13  dollyAnswerText  586 non-null    object\n",
      "dtypes: int64(5), object(9)\n",
      "memory usage: 64.2+ KB\n"
     ]
    }
   ],
   "source": [
    "chat_df.info()"
   ]
  },
  {
   "cell_type": "code",
   "execution_count": 12,
   "metadata": {},
   "outputs": [],
   "source": [
    "chat_df.to_csv(\"data_counsel_chat_with_dolly_answers.csv\")"
   ]
  }
 ],
 "metadata": {
  "kernelspec": {
   "display_name": "Python 3 (ipykernel)",
   "language": "python",
   "name": "python3"
  },
  "language_info": {
   "codemirror_mode": {
    "name": "ipython",
    "version": 3
   },
   "file_extension": ".py",
   "mimetype": "text/x-python",
   "name": "python",
   "nbconvert_exporter": "python",
   "pygments_lexer": "ipython3",
   "version": "3.10.6"
  }
 },
 "nbformat": 4,
 "nbformat_minor": 4
}

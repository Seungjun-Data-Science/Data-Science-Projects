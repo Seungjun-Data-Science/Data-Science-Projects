{
 "cells": [
  {
   "cell_type": "markdown",
   "metadata": {},
   "source": [
    "### Import Libraries, Read in Data and Merge into one big dataset with year indicator variable"
   ]
  },
  {
   "cell_type": "code",
   "execution_count": null,
   "metadata": {
    "_cell_guid": "b1076dfc-b9ad-4769-8c92-a6c4dae69d19",
    "_uuid": "8f2839f25d086af736a60e9eeb907d3b93b6e0e5"
   },
   "outputs": [],
   "source": [
    "import numpy as np\n",
    "import pandas as pd\n",
    "import matplotlib.pyplot as plt\n",
    "import seaborn as sns\n",
    "import geopandas as gpd\n",
    "from shapely import wkt\n",
    "from collections import Counter\n",
    "plt.style.use('fivethirtyeight')"
   ]
  },
  {
   "cell_type": "code",
   "execution_count": null,
   "metadata": {
    "_cell_guid": "79c7e3d0-c299-4dcb-8224-4455121ee9b0",
    "_uuid": "d629ff2d2480ee46fbb7e2d37f6b5fab8052498a"
   },
   "outputs": [],
   "source": [
    "# Read in wrangled NYC airbnb data from 2016-2020\n",
    "df16 = pd.read_csv(\"../input/math301-final-project-data/airbnb16.csv\", index_col=0)\n",
    "df17 = pd.read_csv(\"../input/math301-final-project-data/airbnb17.csv\", index_col=0)\n",
    "df18 = pd.read_csv(\"../input/math301-final-project-data/airbnb18.csv\", index_col=0)\n",
    "df19 = pd.read_csv(\"../input/math301-final-project-data/airbnb19.csv\", index_col=0)\n",
    "df20 = pd.read_csv(\"../input/math301-final-project-data/airbnb20.csv\",  index_col=0)\n",
    "\n",
    "# Read in NYC Shape/Geometry data\n",
    "nbhoods = pd.read_csv('../input/nyctractshape/nynta.csv')"
   ]
  },
  {
   "cell_type": "code",
   "execution_count": null,
   "metadata": {},
   "outputs": [],
   "source": [
    "# Add year variable to all the data sources\n",
    "for dataf,year in zip([df16,df17,df18,df19,df20], ['16','17','18','19','20']):\n",
    "    dataf['year'] = '20' + year"
   ]
  },
  {
   "cell_type": "code",
   "execution_count": null,
   "metadata": {},
   "outputs": [],
   "source": [
    "# Merge data sources into one big dataset\n",
    "df = pd.concat([df16,df17,df18,df19,df20])"
   ]
  },
  {
   "cell_type": "markdown",
   "metadata": {},
   "source": [
    "### Outliers - Which listings and where are they? (e.g. luxurious penthouses)"
   ]
  },
  {
   "cell_type": "markdown",
   "metadata": {},
   "source": [
    "##### 2017"
   ]
  },
  {
   "cell_type": "code",
   "execution_count": null,
   "metadata": {},
   "outputs": [],
   "source": [
    "df17.price.describe()"
   ]
  },
  {
   "cell_type": "code",
   "execution_count": null,
   "metadata": {},
   "outputs": [],
   "source": [
    "# Upper limit for outlier detection (Q3 + IQR * 1.5) => Anything beyond this value will be considered an outlier for year of 2017\n",
    "165 + 1.5 * 100"
   ]
  },
  {
   "cell_type": "code",
   "execution_count": null,
   "metadata": {},
   "outputs": [],
   "source": [
    "df17[df17.price >=315].neighbourhood_group.value_counts() * 100 / len(df17[df17.price >=315])"
   ]
  },
  {
   "cell_type": "code",
   "execution_count": null,
   "metadata": {},
   "outputs": [],
   "source": [
    "(df17[df17.price >=315].neighbourhood.value_counts() * 100 / len(df17[df17.price >=315]))[:20]"
   ]
  },
  {
   "cell_type": "markdown",
   "metadata": {},
   "source": [
    "##### 2020"
   ]
  },
  {
   "cell_type": "code",
   "execution_count": null,
   "metadata": {},
   "outputs": [],
   "source": [
    "df20.price.describe()"
   ]
  },
  {
   "cell_type": "code",
   "execution_count": null,
   "metadata": {},
   "outputs": [],
   "source": [
    "# Upper limit for outlier detection (Q3 + IQR * 1.5) => Anything beyond this value will be considered an outlier for year of 2020\n",
    "180 + 1.5 * 110"
   ]
  },
  {
   "cell_type": "code",
   "execution_count": null,
   "metadata": {},
   "outputs": [],
   "source": [
    "df20[df20.price >=345].neighbourhood_group.value_counts() * 100 / len(df20[df20.price >=345])"
   ]
  },
  {
   "cell_type": "code",
   "execution_count": null,
   "metadata": {},
   "outputs": [],
   "source": [
    "(df20[df20.price >=345].neighbourhood.value_counts() * 100 / len(df20[df20.price >=345]))[:20]"
   ]
  },
  {
   "cell_type": "markdown",
   "metadata": {},
   "source": [
    "### Number of Listings over time on a tract level (more granular than borough level)"
   ]
  },
  {
   "cell_type": "code",
   "execution_count": null,
   "metadata": {},
   "outputs": [],
   "source": [
    "# rename the \"NTAName\" column to \"neighborhood\" to make the column seem more straightforward to understand\n",
    "nbhoods.rename(columns={'NTAName':'neighbourhood'}, inplace=True)\n",
    "\n",
    "# Convert the geometry column text into well known text, allowing me to plot geometry accurately\n",
    "nbhoods['geom'] = nbhoods['the_geom'].apply(wkt.loads)\n",
    "\n",
    "# Convert dataframe to \"Geopandas GeoDataFrame\"\n",
    "nbhoods = gpd.GeoDataFrame(nbhoods, geometry='geom')"
   ]
  },
  {
   "cell_type": "code",
   "execution_count": null,
   "metadata": {},
   "outputs": [],
   "source": [
    "# Match each Airbnb location, and enable the \"data\" dataframe into a geopandas dataframe\n",
    "df17_geo = gpd.GeoDataFrame(df17, geometry=gpd.points_from_xy(df17.longitude, df17.latitude))\n",
    "\n",
    "# Spatial join\n",
    "joined17 = gpd.sjoin(nbhoods, df17_geo, how='inner', op='intersects')"
   ]
  },
  {
   "cell_type": "code",
   "execution_count": null,
   "metadata": {},
   "outputs": [],
   "source": [
    "# Drop the second geometry column\n",
    "joined17.drop(columns='geom', inplace=True)\n",
    "\n",
    "# Rename the neighbourhood_left column to neighbourhood\n",
    "joined17.rename(columns={'neighbourhood_left':'neighbourhood'}, inplace=True)\n",
    "\n",
    "# Create a count of listings in each neighborhood (tract)\n",
    "nb_join_count17 = joined17.groupby('neighbourhood').agg('count').reset_index()\n",
    "\n",
    "# Attach count of listings onto nbhood map\n",
    "listings_count17 = nbhoods.merge(nb_join_count17, on='neighbourhood')\n",
    "\n",
    "# Make an index column for colorbar later\n",
    "listings_count17['index'] = range(0,len(listings_count17))"
   ]
  },
  {
   "cell_type": "code",
   "execution_count": null,
   "metadata": {},
   "outputs": [],
   "source": [
    "# Plot 2017 Number of Listings Map Visualization\n",
    "\n",
    "fig,ax = plt.subplots(1,1, figsize=(10,10))\n",
    "\n",
    "base = nbhoods.plot(color='white', edgecolor='black', ax=ax)\n",
    "\n",
    "listings_count17.plot(column='index',cmap='plasma_r', ax=base, legend=True)\n",
    "\n",
    "plt.title('Number of Airbnb listings by tract in NYC in 2017')"
   ]
  },
  {
   "cell_type": "markdown",
   "metadata": {},
   "source": [
    "##### 2020"
   ]
  },
  {
   "cell_type": "code",
   "execution_count": null,
   "metadata": {},
   "outputs": [],
   "source": [
    "# Match each Airbnb location, and enable the \"data\" dataframe into a geopandas dataframe\n",
    "df20_geo = gpd.GeoDataFrame(df20, geometry=gpd.points_from_xy(df20.longitude, df20.latitude))\n",
    "\n",
    "# Spatial join\n",
    "joined20 = gpd.sjoin(nbhoods, df20_geo, how='inner', op='intersects')"
   ]
  },
  {
   "cell_type": "code",
   "execution_count": null,
   "metadata": {},
   "outputs": [],
   "source": [
    "# Drop the second geometry column\n",
    "joined20.drop(columns='geom', inplace=True)\n",
    "\n",
    "# Rename the neighbourhood_left column to neighbourhood\n",
    "joined20.rename(columns={'neighbourhood_left':'neighbourhood'}, inplace=True)\n",
    "\n",
    "# Create a count of listings in each neighborhood (tract)\n",
    "nb_join_count20 = joined20.groupby('neighbourhood').agg('count').reset_index()\n",
    "\n",
    "# Attach count of listings onto nbhood map\n",
    "listings_count20 = nbhoods.merge(nb_join_count20, on='neighbourhood')\n",
    "\n",
    "# Make an index column for colorbar later\n",
    "listings_count20['index'] = range(0,len(listings_count20))"
   ]
  },
  {
   "cell_type": "code",
   "execution_count": null,
   "metadata": {},
   "outputs": [],
   "source": [
    "# Plot 2020 Number of Listings Map Visualization\n",
    "\n",
    "fig,ax = plt.subplots(1,1, figsize=(10,10))\n",
    "\n",
    "base = nbhoods.plot(color='white', edgecolor='black', ax=ax)\n",
    "\n",
    "listings_count20.plot(column='index',cmap='plasma_r', ax=base, legend=True)\n",
    "\n",
    "plt.title('Number of Airbnb listings by tract in NYC in 2020')"
   ]
  },
  {
   "cell_type": "markdown",
   "metadata": {},
   "source": [
    "### Minimum Revenue = price x minimum number of nights x Demand (proxy: Number of Reviews)"
   ]
  },
  {
   "cell_type": "code",
   "execution_count": null,
   "metadata": {},
   "outputs": [],
   "source": [
    "# Create variable for Minimum Revenue for each listing \n",
    "df['revenue'] = df['price'] * df['minimum_nights'] * df['number_of_reviews']"
   ]
  },
  {
   "cell_type": "code",
   "execution_count": null,
   "metadata": {},
   "outputs": [],
   "source": [
    "df.groupby(['neighbourhood_group','year']).revenue.agg({'sum','mean','median'})"
   ]
  },
  {
   "cell_type": "code",
   "execution_count": null,
   "metadata": {},
   "outputs": [],
   "source": [
    "df17['revenue'] = df17['price'] * df17['minimum_nights'] * df17['number_of_reviews']\n",
    "df20['revenue'] = df20['price'] * df20['minimum_nights'] * df20['number_of_reviews']"
   ]
  },
  {
   "cell_type": "code",
   "execution_count": null,
   "metadata": {},
   "outputs": [],
   "source": [
    "df17.groupby(['neighbourhood']).revenue.agg({'sum','mean','median'}).sort_values('median', ascending=False)[:20]"
   ]
  },
  {
   "cell_type": "code",
   "execution_count": null,
   "metadata": {},
   "outputs": [],
   "source": [
    "df20.groupby(['neighbourhood']).revenue.agg({'sum','mean','median'}).sort_values('median', ascending=False)[:20]"
   ]
  },
  {
   "cell_type": "code",
   "execution_count": null,
   "metadata": {},
   "outputs": [],
   "source": [
    "# List of top 20 tracts with highest median min revenues in 2017 and 2020\n",
    "\n",
    "top17_rev_2017 = df17.groupby(['neighbourhood']).revenue.agg({'sum','mean','median'}).sort_values('median', ascending=False)[:20].index.tolist()\n",
    "top20_rev_2020 = df20.groupby(['neighbourhood']).revenue.agg({'sum','mean','median'}).sort_values('median', ascending=False)[:20].index.tolist()"
   ]
  },
  {
   "cell_type": "code",
   "execution_count": null,
   "metadata": {},
   "outputs": [],
   "source": [
    "top17_rev_2017_neighb = []\n",
    "for tract in top17_rev_2017:\n",
    "    top17_rev_2017_neighb.append(list(set(df[df.neighbourhood == tract].neighbourhood_group))[0])"
   ]
  },
  {
   "cell_type": "code",
   "execution_count": null,
   "metadata": {},
   "outputs": [],
   "source": [
    "pd.DataFrame([top17_rev_2017,top17_rev_2017_neighb]).T"
   ]
  },
  {
   "cell_type": "code",
   "execution_count": null,
   "metadata": {},
   "outputs": [],
   "source": [
    "Counter(top17_rev_2017_neighb)"
   ]
  },
  {
   "cell_type": "code",
   "execution_count": null,
   "metadata": {},
   "outputs": [],
   "source": [
    "top20_rev_2020_neighb = []\n",
    "for tract in top20_rev_2020:\n",
    "    top20_rev_2020_neighb.append(list(set(df[df.neighbourhood == tract].neighbourhood_group))[0])"
   ]
  },
  {
   "cell_type": "code",
   "execution_count": null,
   "metadata": {},
   "outputs": [],
   "source": [
    "pd.DataFrame([top20_rev_2020,top20_rev_2020_neighb]).T"
   ]
  },
  {
   "cell_type": "code",
   "execution_count": null,
   "metadata": {},
   "outputs": [],
   "source": [
    "Counter(top20_rev_2020_neighb)"
   ]
  }
 ],
 "metadata": {
  "kernelspec": {
   "display_name": "Python 3",
   "language": "python",
   "name": "python3"
  },
  "language_info": {
   "codemirror_mode": {
    "name": "ipython",
    "version": 3
   },
   "file_extension": ".py",
   "mimetype": "text/x-python",
   "name": "python",
   "nbconvert_exporter": "python",
   "pygments_lexer": "ipython3",
   "version": "3.6.4"
  }
 },
 "nbformat": 4,
 "nbformat_minor": 4
}
